{
  "nbformat": 4,
  "nbformat_minor": 0,
  "metadata": {
    "colab": {
      "provenance": [],
      "authorship_tag": "ABX9TyPdqJoXQSI44EY3UgomTXH9",
      "include_colab_link": true
    },
    "kernelspec": {
      "name": "python3",
      "display_name": "Python 3"
    },
    "language_info": {
      "name": "python"
    }
  },
  "cells": [
    {
      "cell_type": "markdown",
      "metadata": {
        "id": "view-in-github",
        "colab_type": "text"
      },
      "source": [
        "<a href=\"https://colab.research.google.com/github/Yarl0/mc-202202-jhan-leon/blob/main/Taller14.ipynb\" target=\"_parent\"><img src=\"https://colab.research.google.com/assets/colab-badge.svg\" alt=\"Open In Colab\"/></a>"
      ]
    },
    {
      "cell_type": "code",
      "execution_count": null,
      "metadata": {
        "id": "bhEclStbr803"
      },
      "outputs": [],
      "source": [
        "import numpy as np \n",
        "import os\n",
        "\n",
        "A = np.array([[1,0,1],\n",
        "              [3,4,3],\n",
        "              [4,1,0]])\n",
        "\n",
        "B = np.array([[2.5],\n",
        "              [11.5],\n",
        "              [15.0]])\n",
        "\n",
        "casicero = 1e-15 \n",
        "AB = np.concatenate((A,B),axis=1)\n",
        "AB0 = np.copy(AB)\n",
        "\n",
        "tamano = np.shape(AB)\n",
        "n = tamano[0]\n",
        "m = tamano[1]\n",
        "\n",
        "for i in range(0,n-1,1):\n",
        "    columna = abs(AB[i:,i])\n",
        "    dondemax = np.argmax(columna)\n",
        "    if (dondemax !=0):\n",
        "        temporal = np.copy(AB[i,:])\n",
        "        AB[i,:] = AB[dondemax+i,:]\n",
        "        AB[dondemax+i,:] = temporal\n",
        "AB1 = np.copy(AB)\n",
        "for i in range(0,n-1,1):\n",
        "    pivote = AB[i,i]\n",
        "    adelante = i + 1\n",
        "    for k in range(adelante,n,1):\n",
        "        factor = AB[k,i]/pivote\n",
        "        AB[k,:] = AB[k,:] - AB[i,:]*factor\n",
        "AB2 = np.copy(AB)\n",
        "ltfila = n-1\n",
        "ultcolumna = m-1\n",
        "for i in range(ltfila,0-1,-1):\n",
        "    pivote = AB[i,i]\n",
        "    atras = i-1 \n",
        "    for k in range(atras,0-1,-1):\n",
        "        factor = AB[k,i]/pivote\n",
        "        AB[k,:] = AB[k,:] - AB[i,:]*factor\n",
        "    AB[i,:] = AB[i,:]/AB[i,i]\n",
        "X = np.copy(AB[:,ultcolumna])\n",
        "X = np.transpose([X])\n",
        "\n",
        "os.system('cls')\n",
        "print(f\"La matriz A es: \\n {A}\\n\")\n",
        "print(f\"La matriz B es: \\n {B}\\n\")\n",
        "print(f\"La matriz resultado es \\n{X}\")"
      ]
    }
  ]
}