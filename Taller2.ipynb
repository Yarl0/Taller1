{
  "nbformat": 4,
  "nbformat_minor": 0,
  "metadata": {
    "colab": {
      "name": "Taller2.ipynb",
      "provenance": [],
      "collapsed_sections": [],
      "authorship_tag": "ABX9TyNyirtFRaRPuTRpmcWTseoB",
      "include_colab_link": true
    },
    "kernelspec": {
      "name": "python3",
      "display_name": "Python 3"
    },
    "language_info": {
      "name": "python"
    }
  },
  "cells": [
    {
      "cell_type": "markdown",
      "metadata": {
        "id": "view-in-github",
        "colab_type": "text"
      },
      "source": [
        "<a href=\"https://colab.research.google.com/github/Yarl0/mc-202202-jhan-leon/blob/main/Taller2.ipynb\" target=\"_parent\"><img src=\"https://colab.research.google.com/assets/colab-badge.svg\" alt=\"Open In Colab\"/></a>"
      ]
    },
    {
      "cell_type": "code",
      "source": [
        "#Taller 2#\n",
        "\n",
        "x=0\n",
        "print(\"Usted, usted es el ganador de una prueba gratis de un nuevo sistema de operacion de conjuntos\")\n",
        "A=set()\n",
        "B=set()\n",
        "C=set()\n",
        "D=set()\n",
        "\n",
        "for ele in range (6,21):\n",
        "    A.add(ele)\n",
        "\n",
        "for ele in range(0,25,2):\n",
        "  B.add(ele)    \n",
        "\n",
        "C.add(1)\n",
        "\n",
        "for ele in range(4,21,2):\n",
        "  C.add(ele)\n",
        "\n",
        "C.discard(6)\n",
        "C.discard(14)\n",
        "C.add(15)\n",
        "C.discard(16)\n",
        "print(A)\n",
        "print(B)\n",
        "print(C)\n",
        "\n",
        "D.add(0)\n",
        "D.add(1)\n",
        "D.add(2)\n",
        "D.add(3)\n",
        "D.add(5)\n",
        "D.add(7)\n",
        "D.add(11)\n",
        "D.add(13)\n",
        "D.add(17)\n",
        "D.add(19)\n",
        "D.add(23)\n",
        "D.add(29)\n",
        "D.add(31)\n",
        "D.add(37)\n",
        "D.add(41)\n",
        "D.add(43)\n",
        "\n",
        "print(D)\n",
        "\n",
        "P=B & (C ^ D)\n",
        "\n",
        "Z=(A & C)|B\n",
        "\n",
        "X=(B | D)-C\n",
        "\n",
        "Y=(A - B)^(A & D)\n",
        "\n",
        "print(P)\n",
        "print(Z)\n",
        "print(X)\n",
        "print(Y)"
      ],
      "metadata": {
        "colab": {
          "base_uri": "https://localhost:8080/"
        },
        "id": "NzTguri6ixR7",
        "outputId": "51278fc0-6868-4ca4-a9d5-a19e06de8600"
      },
      "execution_count": 2,
      "outputs": [
        {
          "output_type": "stream",
          "name": "stdout",
          "text": [
            "Usted, usted es el ganador de una prueba gratis de un nuevo sistema de operacion de conjuntos\n",
            "{6, 7, 8, 9, 10, 11, 12, 13, 14, 15, 16, 17, 18, 19, 20}\n",
            "{0, 2, 4, 6, 8, 10, 12, 14, 16, 18, 20, 22, 24}\n",
            "{1, 4, 8, 10, 12, 15, 18, 20}\n",
            "{0, 1, 2, 3, 5, 37, 7, 41, 11, 43, 13, 17, 19, 23, 29, 31}\n",
            "{0, 2, 4, 8, 10, 12, 18, 20}\n",
            "{0, 2, 4, 6, 8, 10, 12, 14, 15, 16, 18, 20, 22, 24}\n",
            "{0, 2, 3, 5, 6, 7, 11, 13, 14, 16, 17, 19, 22, 23, 24, 29, 31, 37, 41, 43}\n",
            "{9, 15}\n"
          ]
        }
      ]
    }
  ]
}