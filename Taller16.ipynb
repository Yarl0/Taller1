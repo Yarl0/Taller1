{
  "nbformat": 4,
  "nbformat_minor": 0,
  "metadata": {
    "colab": {
      "provenance": [],
      "collapsed_sections": [],
      "authorship_tag": "ABX9TyOwSl6ClCovQNkPCCLt1dpX",
      "include_colab_link": true
    },
    "kernelspec": {
      "name": "python3",
      "display_name": "Python 3"
    },
    "language_info": {
      "name": "python"
    }
  },
  "cells": [
    {
      "cell_type": "markdown",
      "metadata": {
        "id": "view-in-github",
        "colab_type": "text"
      },
      "source": [
        "<a href=\"https://colab.research.google.com/github/Yarl0/mc-202202-jhan-leon/blob/main/Taller16.ipynb\" target=\"_parent\"><img src=\"https://colab.research.google.com/assets/colab-badge.svg\" alt=\"Open In Colab\"/></a>"
      ]
    },
    {
      "cell_type": "code",
      "execution_count": 26,
      "metadata": {
        "colab": {
          "base_uri": "https://localhost:8080/"
        },
        "id": "cvNKXpVh11ID",
        "outputId": "78e56c6a-db72-426b-df68-d71c5fa63d00"
      },
      "outputs": [
        {
          "output_type": "stream",
          "name": "stdout",
          "text": [
            "Y=  7.471428571428573  +  -0.8214285714285717 x\n"
          ]
        }
      ],
      "source": [
        "import numpy as np\n",
        "\n",
        "\n",
        "X=[1,2,3,4,5,6,7,8]\n",
        "\n",
        "Y=[7,5,6,3,4,2.6,2,0.6]\n",
        "\n",
        "Sx=0\n",
        "Sy=0\n",
        "Sxy=0\n",
        "Sx2=0\n",
        "for i in range(len(X)):\n",
        "  Sx += X[i]\n",
        "  Sy += Y[i]\n",
        "  Sxy += X[i]*Y[i]\n",
        "  Sx2 +=X[i]*X[i]\n",
        "\n",
        "\n",
        "\n",
        "promx=Sx/len(X)\n",
        "promy=Sy/len(X)\n",
        "\n",
        "\n",
        "\n",
        "a1=(len(X)*Sxy-Sx*Sy)/(len(X)*Sx2-Sx**2)\n",
        "\n",
        "\n",
        "\n",
        "a0=promy-a1*promx\n",
        "\n",
        "\n",
        "\n",
        "print(\"Y= \", a0, \" + \", a1, \"x\")"
      ]
    }
  ]
}