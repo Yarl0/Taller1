{
  "nbformat": 4,
  "nbformat_minor": 0,
  "metadata": {
    "colab": {
      "provenance": [],
      "authorship_tag": "ABX9TyM2Xdt9a605j0a5ZovZ+Ww4",
      "include_colab_link": true
    },
    "kernelspec": {
      "name": "python3",
      "display_name": "Python 3"
    },
    "language_info": {
      "name": "python"
    }
  },
  "cells": [
    {
      "cell_type": "markdown",
      "metadata": {
        "id": "view-in-github",
        "colab_type": "text"
      },
      "source": [
        "<a href=\"https://colab.research.google.com/github/Yarl0/mc-202202-jhan-leon/blob/main/Taller19.ipynb\" target=\"_parent\"><img src=\"https://colab.research.google.com/assets/colab-badge.svg\" alt=\"Open In Colab\"/></a>"
      ]
    },
    {
      "cell_type": "code",
      "execution_count": 3,
      "metadata": {
        "colab": {
          "base_uri": "https://localhost:8080/"
        },
        "id": "505Q_IB0AOMg",
        "outputId": "8c247fc0-af48-4b89-d3b2-04979ffc4937"
      },
      "outputs": [
        {
          "output_type": "stream",
          "name": "stdout",
          "text": [
            "Y=  -3.828571428571432  +  2.171428571428572 x\n",
            "desviacion estandar =  4.922349419690135 error estandar =  5.3921636261735015 coeficiente de relacion =  9.529640094389894\n"
          ]
        }
      ],
      "source": [
        "import numpy as np\n",
        "from math import log\n",
        "import math\n",
        "\n",
        "\n",
        "\n",
        "\n",
        "X=[1,2,3,4,5,6,7]\n",
        "\n",
        "Y=[0.2,0.6,1.6,3.5,5.5,9.1,13.5]\n",
        "\n",
        "Sx=0\n",
        "Sy=0\n",
        "Sxy=0\n",
        "Sx2=0\n",
        "for i in range(len(X)):\n",
        "  Sx += X[i]\n",
        "  Sy += Y[i]\n",
        "  Sxy += X[i]*Y[i]\n",
        "  Sx2 +=X[i]*X[i]\n",
        "\n",
        "\n",
        "\n",
        "promx=Sx/len(X)\n",
        "promy=Sy/len(X)\n",
        "\n",
        "\n",
        "\n",
        "a1=(len(X)*Sxy-Sx*Sy)/(len(X)*Sx2-Sx**2)\n",
        "\n",
        "\n",
        "a0=promy-a1*promx\n",
        "\n",
        "\n",
        "print(\"Y= \", a0, \" + \", a1, \"x\")\n",
        "\n",
        "St=0\n",
        "for i in range(len(X)):\n",
        "  St += (Y[i]-promy)**2\n",
        "\n",
        "Syx=math.sqrt(St/(len(X)-2))\n",
        "\n",
        "Sy=math.sqrt(St/(len(X)-1))\n",
        "\n",
        "Sr=0\n",
        "for i in range(len(X)):\n",
        "  Sr +=(Y[i]-a0-a1*X[i])**2\n",
        "\n",
        "r=math.sqrt(((St-Sr)/St)*100)\n",
        "\n",
        "print(\"desviacion estandar = \", Sy, \"error estandar = \", Syx, \"coeficiente de relacion = \", r )"
      ]
    }
  ]
}