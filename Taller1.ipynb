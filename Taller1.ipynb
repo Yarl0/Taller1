{
  "nbformat": 4,
  "nbformat_minor": 0,
  "metadata": {
    "colab": {
      "name": "Taller1.ipynb",
      "provenance": [],
      "collapsed_sections": [],
      "authorship_tag": "ABX9TyOctSBLEZ5pWvWiLrwFVD/a",
      "include_colab_link": true
    },
    "kernelspec": {
      "name": "python3",
      "display_name": "Python 3"
    },
    "language_info": {
      "name": "python"
    }
  },
  "cells": [
    {
      "cell_type": "markdown",
      "metadata": {
        "id": "view-in-github",
        "colab_type": "text"
      },
      "source": [
        "<a href=\"https://colab.research.google.com/github/Yarl0/Taller1/blob/main/Taller1.ipynb\" target=\"_parent\"><img src=\"https://colab.research.google.com/assets/colab-badge.svg\" alt=\"Open In Colab\"/></a>"
      ]
    },
    {
      "cell_type": "code",
      "execution_count": null,
      "metadata": {
        "colab": {
          "base_uri": "https://localhost:8080/",
          "height": 391
        },
        "id": "8EgAoinItmOU",
        "outputId": "e1d56616-f16e-451e-e60d-0f16dbb08233"
      },
      "outputs": [
        {
          "output_type": "stream",
          "name": "stdout",
          "text": [
            "Usted, usted es el ganador de una prueba gratis de un nuevo sistema de operacion de conjuntos\n",
            "ingrese los numeros para dos conjuntos\n",
            "primero ingrese la cantidad de numeros, despues, ingrese los numeros del conjunto5\n",
            "añada un numero1\n",
            "añada un numero3\n",
            "añada un numero4\n",
            "añada un numero7\n",
            "añada un numero8\n",
            "Ahora ingrese cuantos numeros tendrá el segundo conjunto\n"
          ]
        },
        {
          "output_type": "error",
          "ename": "TypeError",
          "evalue": "ignored",
          "traceback": [
            "\u001b[0;31m---------------------------------------------------------------------------\u001b[0m",
            "\u001b[0;31mTypeError\u001b[0m                                 Traceback (most recent call last)",
            "\u001b[0;32m<ipython-input-3-59af57c23065>\u001b[0m in \u001b[0;36m<module>\u001b[0;34m()\u001b[0m\n\u001b[1;32m      7\u001b[0m   \u001b[0mA\u001b[0m\u001b[0;34m.\u001b[0m\u001b[0madd\u001b[0m\u001b[0;34m(\u001b[0m\u001b[0minput\u001b[0m\u001b[0;34m(\u001b[0m\u001b[0;34m\"añada un numero\"\u001b[0m\u001b[0;34m)\u001b[0m\u001b[0;34m)\u001b[0m\u001b[0;34m\u001b[0m\u001b[0;34m\u001b[0m\u001b[0m\n\u001b[1;32m      8\u001b[0m \u001b[0mprint\u001b[0m\u001b[0;34m(\u001b[0m\u001b[0;34m\"Ahora ingrese cuantos numeros tendrá el segundo conjunto\"\u001b[0m\u001b[0;34m)\u001b[0m\u001b[0;34m\u001b[0m\u001b[0;34m\u001b[0m\u001b[0m\n\u001b[0;32m----> 9\u001b[0;31m \u001b[0mD\u001b[0m\u001b[0;34m=\u001b[0m\u001b[0mint\u001b[0m\u001b[0;34m(\u001b[0m\u001b[0minput\u001b[0m\u001b[0;34m)\u001b[0m\u001b[0;34m\u001b[0m\u001b[0;34m\u001b[0m\u001b[0m\n\u001b[0m\u001b[1;32m     10\u001b[0m \u001b[0;32mfor\u001b[0m \u001b[0mi\u001b[0m \u001b[0;32min\u001b[0m \u001b[0mrange\u001b[0m\u001b[0;34m(\u001b[0m\u001b[0mD\u001b[0m\u001b[0;34m)\u001b[0m\u001b[0;34m:\u001b[0m\u001b[0;34m\u001b[0m\u001b[0;34m\u001b[0m\u001b[0m\n\u001b[1;32m     11\u001b[0m   \u001b[0mB\u001b[0m\u001b[0;34m=\u001b[0m\u001b[0mset\u001b[0m\u001b[0;34m(\u001b[0m\u001b[0;34m)\u001b[0m\u001b[0;34m\u001b[0m\u001b[0;34m\u001b[0m\u001b[0m\n",
            "\u001b[0;31mTypeError\u001b[0m: int() argument must be a string, a bytes-like object or a number, not 'method'"
          ]
        }
      ],
      "source": [
        "#Taller 1#\n",
        "x=0\n",
        "print(\"Usted, usted es el ganador de una prueba gratis de un nuevo sistema de operacion de conjuntos\")\n",
        "print(\"ingrese los numeros para dos conjuntos\")\n",
        "C=int(input(\"primero ingrese la cantidad de numeros, despues, ingrese los numeros del conjunto \"))\n",
        "A=set()\n",
        "for i in range(C):\n",
        "  A.add(input(\"añada un numero \"))\n",
        "D=int(input(\"Ahora ingrese cuantos numeros tendrá el segundo conjunto\"))\n",
        "B=set()\n",
        "for i in range(D):\n",
        "  B.add(input(\"añada un numero \"))\n",
        "print\n",
        "\n",
        "while x==0:\n",
        "  print(\"1. Union\")\n",
        "  print(\"2. Interseccion\")\n",
        "  print(\"3. Diferencia\")\n",
        "  print(\"4. Diferencia Simetrica\")\n",
        "  option=input(\"despues elija una operación a realizar\")\n",
        "  R=set()\n",
        "  if option == 1:\n",
        "    for ele in A:\n",
        "      R.add(ele)\n",
        "    for ele in B:\n",
        "      R.add(ele)\n",
        "    print(\"su conjunto ahora es \", R)\n",
        "  if option == 2:\n",
        "    for ele in A:\n",
        "      R.add(ele)\n",
        "    for ele in B:\n",
        "      if ele not in R:\n",
        "        R.discard(ele)\n",
        "        print(\"Su conjunto ahora es \", R)\n",
        "  if option == 3:\n",
        "    for ele in A:\n",
        "      R.add(ele)\n",
        "    for ele in B:\n",
        "      if ele in R:\n",
        "        R.discard(ele)\n",
        "        print(\"su conjunto ahora es\", R)\n",
        "  if option == 4:\n",
        "    for ele in A:\n",
        "      R.add(ele)\n",
        "    for ele in B:\n",
        "      if ele not in R:\n",
        "        R.add(ele)\n",
        "        print(\"su conjunto ahora es\", R)        \n",
        "\n",
        "\n",
        "\n"
      ]
    }
  ]
}