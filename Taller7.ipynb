{
  "nbformat": 4,
  "nbformat_minor": 0,
  "metadata": {
    "colab": {
      "provenance": [],
      "authorship_tag": "ABX9TyNz6LsUwZvM/4jDNGAmFEuH",
      "include_colab_link": true
    },
    "kernelspec": {
      "name": "python3",
      "display_name": "Python 3"
    },
    "language_info": {
      "name": "python"
    }
  },
  "cells": [
    {
      "cell_type": "markdown",
      "metadata": {
        "id": "view-in-github",
        "colab_type": "text"
      },
      "source": [
        "<a href=\"https://colab.research.google.com/github/Yarl0/mc-202202-jhan-leon/blob/main/Taller7.ipynb\" target=\"_parent\"><img src=\"https://colab.research.google.com/assets/colab-badge.svg\" alt=\"Open In Colab\"/></a>"
      ]
    },
    {
      "cell_type": "code",
      "execution_count": null,
      "metadata": {
        "id": "cL1S69e8VeX8"
      },
      "outputs": [],
      "source": [
        "import math\n",
        "from math import factorial\n",
        "\n",
        "es = 0.5 *  10**-8 * 100\n",
        "ea = 100\n",
        "\n",
        "num = 0.85\n",
        "potencia = 1\n",
        "valor = 1\n",
        "iteraciones = 1\n",
        "e = 1\n",
        "while ea >= es:\n",
        "  op = (pow(num,potencia)/factorial(valor))\n",
        "  e -= op\n",
        "  print(e)\n",
        "  iteraciones += 1\n",
        "  ea = abs(((e-ea)/e)*100)\n",
        "  valor += 1\n",
        "  potencia += 1\n",
        "  op2 = (pow(num,potencia)/factorial(valor))\n",
        "  e2 = e + op2\n",
        "  print(e2)\n",
        "  iteraciones += 1\n",
        "  ea = abs(((e2-e)/e2)*100)\n",
        "  valor += 1\n",
        "  potencia += 1\n",
        "else:\n",
        "  print(\"valor estimado: \", e2)\n",
        "  print(\"error aproximado porcentual: \", ea, \"%\")\n",
        "  print(\"iteraciones: \", iteraciones)"
      ]
    }
  ]
}