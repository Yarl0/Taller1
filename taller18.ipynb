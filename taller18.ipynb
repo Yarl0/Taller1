{
  "nbformat": 4,
  "nbformat_minor": 0,
  "metadata": {
    "colab": {
      "provenance": [],
      "collapsed_sections": [],
      "authorship_tag": "ABX9TyMtI8hSf/vdw5d04bcrdTqS",
      "include_colab_link": true
    },
    "kernelspec": {
      "name": "python3",
      "display_name": "Python 3"
    },
    "language_info": {
      "name": "python"
    }
  },
  "cells": [
    {
      "cell_type": "markdown",
      "metadata": {
        "id": "view-in-github",
        "colab_type": "text"
      },
      "source": [
        "<a href=\"https://colab.research.google.com/github/Yarl0/mc-202202-jhan-leon/blob/main/taller18.ipynb\" target=\"_parent\"><img src=\"https://colab.research.google.com/assets/colab-badge.svg\" alt=\"Open In Colab\"/></a>"
      ]
    },
    {
      "cell_type": "code",
      "execution_count": null,
      "metadata": {
        "colab": {
          "base_uri": "https://localhost:8080/"
        },
        "id": "cvNKXpVh11ID",
        "outputId": "8be9fadc-124c-4d4e-db58-7a723fcecad2"
      },
      "outputs": [
        {
          "output_type": "stream",
          "name": "stdout",
          "text": [
            "Y=  7.471428571428573  +  -0.8214285714285717 x\n"
          ]
        }
      ],
      "source": [
        "import numpy as np\n",
        "from math import log\n",
        "import math\n",
        "\n",
        "\n",
        "\n",
        "\n",
        "X=[1,2,3,5,7,9,11,13,15]\n",
        "\n",
        "Y=[2.1,3.2,3.8,4,4.2,4.4,4.5,4.7]\n",
        "\n",
        "Sx=0\n",
        "Sy=0\n",
        "Sxy=0\n",
        "Sx2=0\n",
        "for i in range(len(X)):\n",
        "  Sx += X[i]\n",
        "  Sy += Y[i]\n",
        "  Sxy += X[i]*Y[i]\n",
        "  Sx2 +=X[i]*X[i]\n",
        "\n",
        "\n",
        "\n",
        "promx=Sx/len(X)\n",
        "promy=Sy/len(X)\n",
        "\n",
        "\n",
        "\n",
        "a1=(len(X)*Sxy-Sx*Sy)/(len(X)*Sx2-Sx**2)\n",
        "\n",
        "\n",
        "a0=promy-a1*promx\n",
        "\n",
        "\n",
        "print(\"Y= \", a0, \" + \", a1, \"x\")\n",
        "  \n",
        "\n",
        "  \n",
        "\n",
        "\n",
        "\n",
        "\n"
      ]
    },
    {
      "cell_type": "code",
      "source": [
        "X=[1,2,3,5,7,9,11,13,15]\n",
        "\n",
        "Y=[2.1,3.2,3.8,4,4.2,4.4,4.5,4.7]\n",
        "\n",
        "Logy=[]\n",
        "lny=0\n",
        "Sx=0\n",
        "Sly=0\n",
        "Sxly=0\n",
        "Sx2=0\n",
        "for y in Y:\n",
        "  lny=math.log(y)\n",
        "  Logy.append(lny)\n",
        "\n",
        "for i in range(len(X)):\n",
        "  Sx +=X[i]\n",
        "  Sly += Logy[i]\n",
        "  Sxly +=X[i]*Logy[i]\n",
        "  Sx2 +=X[i]*X[i]\n",
        "\n",
        "promx=Sx/len(X)\n",
        "promly=Sly/len(X)\n",
        "\n",
        "a1=(len(X)*Sxly-Sx*Sly)/(len(X)*Sx2-Sx**2)\n",
        "\n",
        "a0=promly-a1*promx\n",
        "\n",
        "print(\"Y= e^\", a0 , \" * e^\", a1 , \"x\" )"
      ],
      "metadata": {
        "colab": {
          "base_uri": "https://localhost:8080/"
        },
        "id": "ocgaJksqRJGq",
        "outputId": "a0023223-3557-4a2c-9edc-2f0ecd3e14e7"
      },
      "execution_count": null,
      "outputs": [
        {
          "output_type": "stream",
          "name": "stdout",
          "text": [
            "Y= e^ 1.1533466247759885  * e^ 0.3366264532798466 x\n"
          ]
        }
      ]
    },
    {
      "cell_type": "code",
      "source": [
        "X=[1,2,3,5,7,9,11,13,15]\n",
        "\n",
        "Y=[2.1,3.2,3.8,4,4.2,4.4,4.5,4.7]\n",
        "\n",
        "Logy=[]\n",
        "Logx=[]\n",
        "lny=0\n",
        "lnx=0\n",
        "Sx=0\n",
        "Sly=0\n",
        "Sxly=0\n",
        "Sx2=0\n",
        "for y in Y:\n",
        "  lny=math.log10(y)\n",
        "  Logy.append(lny)\n",
        "\n",
        "for x in X:\n",
        "  lnx=math.log10(x)\n",
        "  Logx.append(lnx)\n",
        "\n",
        "for i in range(len(X)):\n",
        "  Sx +=Logx[i]\n",
        "  Sly += Logy[i]\n",
        "  Sxly +=Logx[i]*Logy[i]\n",
        "  Sx2 +=Logx[i]*Logx[i]\n",
        "\n",
        "promx=Sx/len(X)\n",
        "promly=Sly/len(X)\n",
        "\n",
        "a1=(len(X)*Sxly-Sx*Sly)/(len(X)*Sx2-Sx**2)\n",
        "\n",
        "a0=promly-a1*promx\n",
        "\n",
        "alfa=10**a0\n",
        "\n",
        "print(\"Y= \" , alfa , \" X^\",a1)"
      ],
      "metadata": {
        "colab": {
          "base_uri": "https://localhost:8080/"
        },
        "id": "tjt65E8mUSmH",
        "outputId": "6a8a4a12-3586-4fd9-a141-303fcba0feea"
      },
      "execution_count": null,
      "outputs": [
        {
          "output_type": "stream",
          "name": "stdout",
          "text": [
            "Y=  3.7625799459696267  X^ 0.9178257229066668\n"
          ]
        }
      ]
    },
    {
      "cell_type": "code",
      "source": [
        "X=[1,2,3,5,7,9,11,13,15]\n",
        "\n",
        "Y=[2.1,3.2,3.8,4,4.2,4.4,4.5,4.7]\n",
        "\n",
        "Invx=[]\n",
        "Invy=[]\n",
        "Logy=[]\n",
        "Logx=[]\n",
        "lnx=0\n",
        "Sx=0\n",
        "Sly=0\n",
        "Sxly=0\n",
        "Sx2=0\n",
        "for y in Y:\n",
        "  lny=math.log10(y)\n",
        "  Logy.append(lny)\n",
        "\n",
        "for x in X:\n",
        "  lnx=math.log10(x)\n",
        "  Logx.append(lnx)\n",
        "\n",
        "for i in range(len(X)):\n",
        "  Sx +=Logx[i]\n",
        "  Sly += Logy[i]\n",
        "  Sxly +=Logx[i]*Logy[i]\n",
        "  Sx2 +=Logx[i]*Logx[i]\n",
        "\n",
        "promx=Sx/len(X)\n",
        "promly=Sly/len(X)\n",
        "\n",
        "a1=(len(X)*Sxly-Sx*Sly)/(len(X)*Sx2-Sx**2)\n",
        "\n",
        "a0=promly-a1*promx\n",
        "\n",
        "alfa=10**a0\n",
        "\n",
        "print(\"Y= \" , alfa , \" X^\",a1)"
      ],
      "metadata": {
        "id": "MbdJrNkrWOTJ",
        "colab": {
          "base_uri": "https://localhost:8080/"
        },
        "outputId": "d30a7085-a715-4780-82a2-88f4c9d7eac2"
      },
      "execution_count": null,
      "outputs": [
        {
          "output_type": "stream",
          "name": "stdout",
          "text": [
            "Y=  3.7625799459696267  X^ 0.9178257229066668\n"
          ]
        }
      ]
    }
  ]
}