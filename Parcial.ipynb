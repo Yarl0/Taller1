{
  "nbformat": 4,
  "nbformat_minor": 0,
  "metadata": {
    "colab": {
      "name": "Parcial",
      "provenance": [],
      "authorship_tag": "ABX9TyNBJxQv2nFRkmICOsLMXZBs",
      "include_colab_link": true
    },
    "kernelspec": {
      "name": "python3",
      "display_name": "Python 3"
    },
    "language_info": {
      "name": "python"
    }
  },
  "cells": [
    {
      "cell_type": "markdown",
      "metadata": {
        "id": "view-in-github",
        "colab_type": "text"
      },
      "source": [
        "<a href=\"https://colab.research.google.com/github/Yarl0/mc-202202-jhan-leon/blob/main/Parcial.ipynb\" target=\"_parent\"><img src=\"https://colab.research.google.com/assets/colab-badge.svg\" alt=\"Open In Colab\"/></a>"
      ]
    },
    {
      "cell_type": "code",
      "execution_count": 12,
      "metadata": {
        "colab": {
          "base_uri": "https://localhost:8080/"
        },
        "id": "WS7exlaxDJLM",
        "outputId": "1687a152-a269-4ded-c396-55ff14e6dca3"
      },
      "outputs": [
        {
          "output_type": "stream",
          "name": "stdout",
          "text": [
            "{10, 11, 12, 13, 14, 15, 16, 17, 18, 19, 20, 21, 22, 23, 24, 25, 26, 27, 28}\n",
            "{0, 2, 4, 6, 12, 48, 24}\n",
            "{0, 1, 3, 4, 5, 7, 8, 9, 11, 12, 13, 15, 16, 17, 19, 20, 21, 23, 24, 25, 27, 28, 29, 31, 32, 33, 35, 36, 37, 39, 40, 41, 43, 44}\n"
          ]
        }
      ],
      "source": [
        "1#\n",
        "A=set()\n",
        "B=set()\n",
        "C=set()\n",
        "D=set()\n",
        "\n",
        "\n",
        "for ele in range(10,29):\n",
        "  A.add(ele)\n",
        "\n",
        "print(A)\n",
        "\n",
        "B.add(0)\n",
        "B.add(2)\n",
        "B.add(4)\n",
        "B.add(6)\n",
        "B.add(12)\n",
        "B.add(24)\n",
        "B.add(48)\n",
        "\n",
        "print(B)\n",
        "\n",
        "for ele in range(0,45):\n",
        "  if (ele % 4 !=2):\n",
        "    C.add(ele)\n",
        "\n",
        "print(C)\n",
        "\n",
        "D.add(2)\n",
        "D.add(3)\n",
        "D.add(5)\n",
        "D.add(7)\n",
        "D.add(11)\n",
        "D.add(13)\n",
        "D.add(17)\n",
        "D.add(19)\n",
        "D.add(23)\n",
        "D.add(29)\n",
        "D.add(31)\n",
        "D.add(37)\n",
        "\n",
        "N1=(A-C)^ (B & D)\n",
        "N2=((B&D)^ C)-(A|D)\n",
        "N3=(A&B&C)|((A-C)|(B-D))\n",
        "\n",
        "print(N1)\n",
        "print(N2)\n",
        "print(N3)"
      ]
    }
  ]
}