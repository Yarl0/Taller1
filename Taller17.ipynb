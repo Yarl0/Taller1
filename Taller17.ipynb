{
  "nbformat": 4,
  "nbformat_minor": 0,
  "metadata": {
    "colab": {
      "provenance": [],
      "authorship_tag": "ABX9TyPoFCwcQtqUaOoCIpKv8TIJ",
      "include_colab_link": true
    },
    "kernelspec": {
      "name": "python3",
      "display_name": "Python 3"
    },
    "language_info": {
      "name": "python"
    }
  },
  "cells": [
    {
      "cell_type": "markdown",
      "metadata": {
        "id": "view-in-github",
        "colab_type": "text"
      },
      "source": [
        "<a href=\"https://colab.research.google.com/github/Yarl0/mc-202202-jhan-leon/blob/main/Taller17.ipynb\" target=\"_parent\"><img src=\"https://colab.research.google.com/assets/colab-badge.svg\" alt=\"Open In Colab\"/></a>"
      ]
    },
    {
      "cell_type": "code",
      "execution_count": null,
      "metadata": {
        "id": "ASGa5I-DbBWI"
      },
      "outputs": [],
      "source": [
        "import statistics\n",
        "import math\n",
        "import matplotlib.pyplot as plt\n",
        "import numpy as np\n",
        "\n",
        "x = [1,2,3,4,5,6]\n",
        "y = [4.5,6,9,12,17,24]\n",
        "lny = np.log(y)\n",
        "xlny = x * lny\n",
        "\n",
        "x2 = [1,2,3,4,5,6]\n",
        "for i in range(0,len(x)):\n",
        "\tx2[i]=x2[i]*x2[i]\n",
        "\n",
        "promlny = statistics.mean(lny)\n",
        "promx = statistics.mean(x)\n",
        "\n",
        "a1 = ((len(x))*(sum(xlny))-(sum(x))*(sum(lny)))/((len(x))*(sum(x2))-(sum(x))**2)\n",
        "a0 = promlny - (a1)*promx\n",
        "print(\"a1 = \", a1)\n",
        "print(\"a0 = \", a0)\n",
        "\n",
        "alfa = (math.e)**a0\n",
        "beta = a1\n",
        "\n",
        "x = np.arange(0,10,0.1)\n",
        "y = (alfa)*((math.e)**(beta*x))\n",
        "plt.plot(x,y)\n",
        "plt.xlabel('x')\n",
        "plt.ylabel('y')\n",
        "plt.show()\n",
        "\n"
      ]
    }
  ]
}