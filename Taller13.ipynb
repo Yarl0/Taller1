{
  "nbformat": 4,
  "nbformat_minor": 0,
  "metadata": {
    "colab": {
      "provenance": [],
      "authorship_tag": "ABX9TyO4z7bmbEMLdXDVadLJ+mV/",
      "include_colab_link": true
    },
    "kernelspec": {
      "name": "python3",
      "display_name": "Python 3"
    },
    "language_info": {
      "name": "python"
    }
  },
  "cells": [
    {
      "cell_type": "markdown",
      "metadata": {
        "id": "view-in-github",
        "colab_type": "text"
      },
      "source": [
        "<a href=\"https://colab.research.google.com/github/Yarl0/mc-202202-jhan-leon/blob/main/Taller13.ipynb\" target=\"_parent\"><img src=\"https://colab.research.google.com/assets/colab-badge.svg\" alt=\"Open In Colab\"/></a>"
      ]
    },
    {
      "cell_type": "code",
      "execution_count": null,
      "metadata": {
        "id": "ASGa5I-DbBWI"
      },
      "outputs": [],
      "source": [
        "import numpy as np\n",
        "vector1 = []\n",
        "vector2 = []\n",
        "\n",
        "#VECTOR1\n",
        "tamaño = int(input(\"Ingrese el tamaño de los vectores: \"))\n",
        "\n",
        "for i in range(tamaño):\n",
        "    print(\"Ingrese el valor \", i + 1, \" del vector 1:\")\n",
        "    vector = int(input())\n",
        "    vector1.append(vector)\n",
        "\n",
        "print(\"Vector 1: \", vector1)\n",
        "\n",
        "#VECTOR2\n",
        "print(\"~~~~~~~~~~~~~~~~~~\")\n",
        "for i in range(tamaño):\n",
        "    print(\"Ingrese el valor \", i + 1, \" del vector 2:\")\n",
        "    vector = int(input())\n",
        "    vector2.append(vector)\n",
        "\n",
        "print(\"Vector 2: \", vector2)\n",
        "\n",
        "#PRODUCTO ESCALAR\n",
        "print(\"------------------\")\n",
        "producto = np.dot(vector1,vector2)\n",
        "print(\"Producto escalar: \", producto)\n",
        "\n",
        "\n",
        "#MATRIZ A\n",
        "filas = int(input(\"Introduce el número de filas de la matriz A: \"))\n",
        "columnas = int(input(\"Introduce el número de columnas de la matriz A: \"))\n",
        "\n",
        "x = filas*columnas\n",
        "valores = list(map(int, input(f\"Introduce los {x} valores de la matriz A separados por un espacio:\").split()))\n",
        "matrizA = np.array(valores).reshape(filas,columnas)\n",
        "print(\"Matriz A:\")\n",
        "print(matrizA)\n",
        "\n",
        "#MATRIZ B\n",
        "print(\"--------------------\")\n",
        "filas2 = int(input(\"Introduce el número de filas de la matriz B: \"))\n",
        "columnas2 = int(input(\"Introduce el número de columnas de la matriz B: \"))\n",
        "\n",
        "x2 = filas2*columnas2\n",
        "valores2 = list(map(int, input(f\"Introduce los {x2} valores de la matriz B separados por un espacio:\").split()))\n",
        "matrizB = np.array(valores2).reshape(filas2,columnas2)\n",
        "print(\"Matriz B:\")\n",
        "print(matrizB)\n",
        "\n",
        "#OPERACIONES\n",
        "print(\"--------------------\")\n",
        "print(\"OPERACIONES\")\n",
        "print(\"3A: \\n\", 3*matrizA)\n",
        "print(\"4B: \\n\", 4*matrizB)\n",
        "#suma\n",
        "if filas==filas2 and columnas==columnas2:\n",
        "    print(\"A+B: \\n\", matrizA + matrizB)\n",
        "else:\n",
        "  print(\"A+B: La suma no se pudo realizar debido a que el numero de filas y columnas no coinciden.\")\n",
        "#producto\n",
        "if filas==columnas2 and filas2==columnas:\n",
        "  print(\"AxB: \\n\", np.dot(matrizA,matrizB))\n",
        "else:\n",
        "  print(\"AxB: La multiplicación no se pudo realizar debido a que el numero de filas y columnas no coinciden.\")"
      ]
    }
  ]
}