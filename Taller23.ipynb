{
  "nbformat": 4,
  "nbformat_minor": 0,
  "metadata": {
    "colab": {
      "provenance": [],
      "authorship_tag": "ABX9TyNR+2H0vHzeYS6KoW5dMm7c",
      "include_colab_link": true
    },
    "kernelspec": {
      "name": "python3",
      "display_name": "Python 3"
    },
    "language_info": {
      "name": "python"
    }
  },
  "cells": [
    {
      "cell_type": "markdown",
      "metadata": {
        "id": "view-in-github",
        "colab_type": "text"
      },
      "source": [
        "<a href=\"https://colab.research.google.com/github/Yarl0/mc-202202-jhan-leon/blob/main/Taller23.ipynb\" target=\"_parent\"><img src=\"https://colab.research.google.com/assets/colab-badge.svg\" alt=\"Open In Colab\"/></a>"
      ]
    },
    {
      "cell_type": "code",
      "execution_count": null,
      "metadata": {
        "colab": {
          "base_uri": "https://localhost:8080/"
        },
        "id": "gk00yqDJXS0v",
        "outputId": "01599d46-1a52-4a56-d68f-c2944241f1b4"
      },
      "outputs": [
        {
          "output_type": "stream",
          "name": "stdout",
          "text": [
            "Polinomios por tramos: \n",
            " x = [1,3]\n",
            "0.00892857142857143*x**3 - 0.0267857142857143*x**2 + 0.0410714285714286*x + 1.37678571428571\n",
            " x = [3,5]\n",
            "-0.0196428571428572*x**3 + 0.230357142857143*x**2 - 0.730357142857143*x + 2.14821428571429\n",
            " x = [5,7]\n",
            "0.0196428571428572*x**3 - 0.358928571428572*x**2 + 2.21607142857143*x - 2.7625\n",
            " x = [7,9]\n",
            "-0.00892857142857144*x**3 + 0.241071428571429*x**2 - 1.98392857142857*x + 7.03750000000001\n"
          ]
        }
      ],
      "source": [
        "# Trazador cúbico natural\n",
        "# Condición: S''(x_0) = S''(x_n) = 0\n",
        "import numpy as np\n",
        "import sympy as sym\n",
        "import matplotlib.pyplot as plt\n",
        "\n",
        "def traza3natural(xi,yi):\n",
        "    n = len(xi)\n",
        "    \n",
        "    # Valores h\n",
        "    h = np.zeros(n-1, dtype = float)\n",
        "    for j in range(0,n-1,1):\n",
        "        h[j] = xi[j+1] - xi[j]\n",
        "    \n",
        "    # Sistema de ecuaciones\n",
        "    A = np.zeros(shape=(n-2,n-2), dtype = float)\n",
        "    B = np.zeros(n-2, dtype = float)\n",
        "    S = np.zeros(n, dtype = float)\n",
        "\n",
        "    A[0,0] = 2*(h[0]+h[1])\n",
        "    A[0,1] = h[1]\n",
        "    B[0] = 6*((yi[2]-yi[1])/h[1] - (yi[1]-yi[0])/h[0])\n",
        "\n",
        "    for i in range(1,n-3,1):\n",
        "        A[i,i-1] = h[i]\n",
        "        A[i,i] = 2*(h[i]+h[i+1])\n",
        "        A[i,i+1] = h[i+1]\n",
        "        factor21 = (yi[i+2]-yi[i+1])/h[i+1]\n",
        "        factor10 = (yi[i+1]-yi[i])/h[i]\n",
        "        B[i] = 6*(factor21 - factor10)\n",
        "        \n",
        "    A[n-3,n-4] = h[n-3]\n",
        "    A[n-3,n-3] = 2*(h[n-3]+h[n-2])\n",
        "    factor12 = (yi[n-1]-yi[n-2])/h[n-2]\n",
        "    factor23 = (yi[n-2]-yi[n-3])/h[n-3]\n",
        "    B[n-3] = 6*(factor12 - factor23)\n",
        "    \n",
        "    # Resolver sistema de ecuaciones S\n",
        "    r = np.linalg.solve(A,B)\n",
        "    for j in range(1,n-1,1):\n",
        "        S[j] = r[j-1]\n",
        "    S[0] = 0\n",
        "    S[n-1] = 0\n",
        "    \n",
        "    # Coeficientes\n",
        "    a = np.zeros(n-1, dtype = float)\n",
        "    b = np.zeros(n-1, dtype = float)\n",
        "    c = np.zeros(n-1, dtype = float)\n",
        "    d = np.zeros(n-1, dtype = float)\n",
        "    for j in range(0,n-1,1):\n",
        "        a[j] = (S[j+1]-S[j])/(6*h[j])\n",
        "        b[j] = S[j]/2\n",
        "        factor10 = (yi[j+1]-yi[j])/h[j]\n",
        "        c[j] = factor10 - (2*h[j]*S[j]+h[j]*S[j+1])/6\n",
        "        d[j] = yi[j]\n",
        "    \n",
        "    # Polinomio trazador\n",
        "    x = sym.Symbol('x')\n",
        "    px_tabla = []\n",
        "    for j in range(0,n-1,1):\n",
        "\n",
        "        pxtramo = a[j]*(x-xi[j])**3 + b[j]*(x-xi[j])**2\n",
        "        pxtramo = pxtramo + c[j]*(x-xi[j])+ d[j]\n",
        "        \n",
        "        pxtramo = pxtramo.expand()\n",
        "        px_tabla.append(pxtramo)\n",
        "    \n",
        "    return(px_tabla)\n",
        "\n",
        "# PROGRAMA -----------------------\n",
        "# INGRESO , Datos de prueba\n",
        "xi = np.array([1 ,3 ,5 , 7, 9])\n",
        "fi = np.array([1.4 ,1.5 ,1.8 , 1.9 , 2.2])\n",
        "muestras = 10 # entre cada par de puntos\n",
        "\n",
        "# PROCEDIMIENTO\n",
        "# Tabla de polinomios por tramos\n",
        "n = len(xi)\n",
        "px_tabla = traza3natural(xi,fi)\n",
        "\n",
        "# SALIDA\n",
        "print('Polinomios por tramos: ')\n",
        "for tramo in range(1,n,1):\n",
        "    print(' x = ['+str(xi[tramo-1])\n",
        "          +','+str(xi[tramo])+']')\n",
        "    print(str(px_tabla[tramo-1]))"
      ]
    },
    {
      "cell_type": "code",
      "source": [
        "# GRAFICA\n",
        "# Puntos para graficar cada tramo\n",
        "xtraza = np.array([])\n",
        "ytraza = np.array([])\n",
        "tramo = 1\n",
        "while not(tramo>=n):\n",
        "    a = xi[tramo-1]\n",
        "    b = xi[tramo]\n",
        "    xtramo = np.linspace(a,b,muestras)\n",
        "    \n",
        "    # evalua polinomio del tramo\n",
        "    pxtramo = px_tabla[tramo-1]\n",
        "    pxt = sym.lambdify('x',pxtramo)\n",
        "    ytramo = pxt(xtramo)\n",
        "\n",
        "    # vectores de trazador en x,y\n",
        "    xtraza = np.concatenate((xtraza,xtramo))\n",
        "    ytraza = np.concatenate((ytraza,ytramo))\n",
        "    tramo = tramo + 1\n",
        "\n",
        "# Gráfica\n",
        "plt.plot(xi,fi,'ro', label='puntos')\n",
        "plt.plot(xtraza,ytraza, label='trazador'\n",
        "         , color='blue')\n",
        "plt.title('Trazadores Cúbicos Naturales')\n",
        "plt.xlabel('xi')\n",
        "plt.ylabel('px(xi)')\n",
        "plt.legend()\n",
        "plt.show()"
      ],
      "metadata": {
        "colab": {
          "base_uri": "https://localhost:8080/",
          "height": 295
        },
        "id": "17lN05PIXYSJ",
        "outputId": "00529212-f4f7-4cc9-84b7-4f3439bb46dc"
      },
      "execution_count": null,
      "outputs": [
        {
          "output_type": "display_data",
          "data": {
            "text/plain": [
              "<Figure size 432x288 with 1 Axes>"
            ],
            "image/png": "[encoded data removed]"
          },
          "metadata": {
            "needs_background": "light"
          }
        }
      ]
    }
  ]
}