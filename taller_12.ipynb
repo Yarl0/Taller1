{
  "nbformat": 4,
  "nbformat_minor": 0,
  "metadata": {
    "colab": {
      "provenance": [],
      "authorship_tag": "ABX9TyPxCEigzmel8dOjGcPVNLFK",
      "include_colab_link": true
    },
    "kernelspec": {
      "name": "python3",
      "display_name": "Python 3"
    },
    "language_info": {
      "name": "python"
    }
  },
  "cells": [
    {
      "cell_type": "markdown",
      "metadata": {
        "id": "view-in-github",
        "colab_type": "text"
      },
      "source": [
        "<a href=\"https://colab.research.google.com/github/Yarl0/mc-202202-jhan-leon/blob/main/taller_12.ipynb\" target=\"_parent\"><img src=\"https://colab.research.google.com/assets/colab-badge.svg\" alt=\"Open In Colab\"/></a>"
      ]
    },
    {
      "cell_type": "code",
      "execution_count": 22,
      "metadata": {
        "colab": {
          "base_uri": "https://localhost:8080/"
        },
        "id": "-LnyTY_l-XZi",
        "outputId": "ec575aca-fb3f-489d-be9d-f8ab289174d9"
      },
      "outputs": [
        {
          "output_type": "stream",
          "name": "stdout",
          "text": [
            "orden 0\n",
            "valor:  0.576949810380486649563636092352680861949920654296875\n",
            "Orden  1\n",
            "Valor:  0.57406506132858421643724855520929395424900576472282\n",
            "error:  0.50251256281407033049973192665282871091080188059303\n",
            "Orden  2\n",
            "Valor:  0.57407227320121397252094543831729689387088910734746\n",
            "error:  0.0012562656248037085964262360859922133899078179885138\n",
            "Orden  3\n",
            "Valor:  0.57407226118142625626080508324427983382273743551138\n",
            "error:  0.0000020937760851784965079944222329537935065695868905337\n",
            "Orden  4\n",
            "Valor:  0.57407226119645099090613025726640442732228130891594\n",
            "error:  2.6172201064046219764828938386196291874706999528525E-9\n",
            "Orden  5\n",
            "Valor:  0.57407226119643596617148493209099390753559278426501\n",
            "error:  2.6172201064046907167439965345471265030017267990881E-12\n",
            "Orden  6\n",
            "Valor:  0.57407226119643597869209713652864061709331960142896\n",
            "error:  2.1810167553372423094263377372127749745218189022385E-15\n",
            "Orden  7\n",
            "Valor:  0.57407226119643597868315384209689944070884681020528\n",
            "error:  1.5578691109551731066423098090996459648545941334809E-18\n",
            "Orden  8\n",
            "Valor:  0.57407226119643597868315943165591927894402833098225\n",
            "error:  9.7366819434698318141322521440904718461159571795013E-22\n",
            "Orden  9\n",
            "Valor:  0.57407226119643597868315942855060871236723109082220\n",
            "error:  5.4092677463721286412098436087531336776027279932721E-25\n",
            "Orden  10\n",
            "Valor:  0.57407226119643597868315942855216136765051948948432\n",
            "error:  2.7046338731860643938360772557467680280536446800951E-28\n",
            "Orden  11\n",
            "Valor:  0.57407226119643597868315942855216066189811799475760\n",
            "error:  1.2293790332663930027926565818232262871665625844693E-31\n",
            "Orden  12\n",
            "Valor:  0.57407226119643597868315942855216066219218149538040\n",
            "error:  5.1224126386099220706218287501484001678127468059435E-35\n",
            "Orden  13\n",
            "Valor:  0.57407226119643597868315942855216066219206839403401\n",
            "error:  1.9701587070987043322929654241812945336776835992042E-38\n",
            "Orden  14\n",
            "Valor:  0.57407226119643597868315942855216066219206843442735\n",
            "error:  7.0362814457914056361378680831811140863806049723469E-42\n",
            "Orden  15\n",
            "Valor:  0.57407226119643597868315942855216066219206843441389\n",
            "error:  2.3446525655059056731237304070328869957939339240085E-45\n"
          ]
        }
      ],
      "source": [
        "import math\n",
        "import decimal\n",
        "from decimal import *\n",
        "\n",
        "getcontext().prec= 50\n",
        "\n",
        "xi=0.55\n",
        "X=0.555\n",
        "h=0.005\n",
        "\n",
        "vact= Decimal(math.e**-xi)\n",
        "print(\"orden 0\")\n",
        "print(\"valor: \", Decimal(vact))\n",
        "\n",
        "signo=-1\n",
        "ea=float\n",
        "for i in range(1, 16):\n",
        "  vant=Decimal(vact)\n",
        "  vact += Decimal((((math.e**-xi)*h**i)/math.factorial(i))*signo)\n",
        "  ea = (abs((Decimal(vact) - Decimal(vant))/Decimal(vact))*100)\n",
        "  print(\"Orden \" , i)\n",
        "  print(\"Valor: \", vact) \n",
        "  print(\"error: \", Decimal(ea))\n",
        "  signo *= -1"
      ]
    },
    {
      "cell_type": "code",
      "source": [
        "math.e**-0.555\n"
      ],
      "metadata": {
        "colab": {
          "base_uri": "https://localhost:8080/"
        },
        "id": "aFE8vAAXEGEy",
        "outputId": "ba01f94b-a5f5-42a3-b6d4-6af85d5e1fd3"
      },
      "execution_count": 3,
      "outputs": [
        {
          "output_type": "execute_result",
          "data": {
            "text/plain": [
              "0.5740722611964361"
            ]
          },
          "metadata": {},
          "execution_count": 3
        }
      ]
    }
  ]
}