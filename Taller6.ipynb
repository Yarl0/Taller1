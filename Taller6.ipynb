{
  "nbformat": 4,
  "nbformat_minor": 0,
  "metadata": {
    "colab": {
      "provenance": [],
      "authorship_tag": "ABX9TyNzscNR6uTFlSwCJSaEGtsx",
      "include_colab_link": true
    },
    "kernelspec": {
      "name": "python3",
      "display_name": "Python 3"
    },
    "language_info": {
      "name": "python"
    }
  },
  "cells": [
    {
      "cell_type": "markdown",
      "metadata": {
        "id": "view-in-github",
        "colab_type": "text"
      },
      "source": [
        "<a href=\"https://colab.research.google.com/github/Yarl0/mc-202202-jhan-leon/blob/main/Taller6.ipynb\" target=\"_parent\"><img src=\"https://colab.research.google.com/assets/colab-badge.svg\" alt=\"Open In Colab\"/></a>"
      ]
    },
    {
      "cell_type": "code",
      "execution_count": null,
      "metadata": {
        "colab": {
          "base_uri": "https://localhost:8080/"
        },
        "id": "JPc1yS5aqGYR",
        "outputId": "23162221-4e0f-4cce-f4df-2f3f7ec22242"
      },
      "outputs": [
        {
          "output_type": "stream",
          "name": "stdout",
          "text": [
            "ingrese el valor de la x del coseno12\n",
            "100.0\n",
            "98.63013698630137\n",
            "92.20917822838848\n",
            "81.57035521812675\n",
            "67.71614401436878\n",
            "52.00287915674772\n",
            "36.19617425439972\n",
            "22.262914904119764\n",
            "11.783710480393193\n",
            "5.253930593155283\n",
            "1.952097627299252\n",
            "0.6047663370337522\n",
            "0.15751662508955583\n",
            "0.0348838177352568\n",
            "0.006644095242135086\n",
            "0.0010997002224001997\n",
            "0.00015963364842596744\n",
            "2.048773677210436e-05\n",
            "2.341455583937217e-06\n",
            "2.398076803905247e-07\n"
          ]
        }
      ],
      "source": [
        "#taller6#\n",
        "\n",
        "import math\n",
        "from math import cos\n",
        "from math import factorial as f\n",
        "\n",
        "x=int(input(\"ingrese el valor de la x del coseno\"))\n",
        "\n",
        "Cs=math.radians(x)\n",
        "\n",
        "es=(0.5*10**-8)*100\n",
        "\n",
        "ea=100\n",
        "pt=0\n",
        "vl=0\n",
        "va=0\n",
        "\n",
        "M=0\n",
        "\n",
        "\n",
        "while ea >= es:\n",
        "  M+=(x**pt/f(pt))\n",
        "  pt +=2\n",
        "  ea = abs((M - va) / M) * 100\n",
        "\n",
        "  va = M\n",
        "  print(ea)"
      ]
    }
  ]
}